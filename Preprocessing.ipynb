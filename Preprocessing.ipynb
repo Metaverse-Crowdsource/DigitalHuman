{
 "cells": [
  {
   "cell_type": "code",
   "execution_count": null,
   "id": "684ba6a3-ae43-4e75-a376-4c6ced3becd9",
   "metadata": {},
   "outputs": [],
   "source": [
    "import pandas as pd\n",
    "\n",
    "emotion_lexicon_path = \"/home/vincent/AAA_projects/University/MSc_AI/Big Data Analysis/project2data/personality-prediction-from-text/data/training/Emotion_Lexicon.csv\"\n",
    "essays_path = \"/home/vincent/AAA_projects/University/MSc_AI/Big Data Analysis/project2data/personality-prediction-from-text/data/training/essays_utf8.csv\"\n",
    "mairesse_path = \"/home/vincent/AAA_projects/University/MSc_AI/Big Data Analysis/project2data/personality-prediction-from-text/data/training/mairesse.csv\"\n",
    "mbti_1_path = \"/home/vincent/AAA_projects/University/MSc_AI/Big Data Analysis/project2data/personality-prediction-from-text/data/training/mbti_1.csv\"\n",
    "\n",
    "emotion_lexicon_df = pd.read_csv(emotion_lexicon_path)\n",
    "essays_df = pd.read_csv(essays_path)\n",
    "mairesse_df = pd.read_csv(mairesse_path)\n",
    "mbti_1_df = pd.read_csv(mbti_1_path)"
   ]
  },
  {
   "cell_type": "code",
   "execution_count": null,
   "id": "a5d48273-074d-4563-be31-f938f20442ff",
   "metadata": {},
   "outputs": [],
   "source": [
    "import pickle\n",
    "\n",
    "cAGR_path = \"/home/vincent/AAA_projects/University/MSc_AI/Big Data Analysis/project2data/personality-prediction-from-text/data/models/cAGR.p\"\n",
    "cCON_path = \"/home/vincent/AAA_projects/University/MSc_AI/Big Data Analysis/project2data/personality-prediction-from-text/data/models/cCON.p\"\n",
    "cEXT_path = \"/home/vincent/AAA_projects/University/MSc_AI/Big Data Analysis/project2data/personality-prediction-from-text/data/models/cEXT.p\"\n",
    "cNEU_path = \"/home/vincent/AAA_projects/University/MSc_AI/Big Data Analysis/project2data/personality-prediction-from-text/data/models/cNEU.p\"\n",
    "cOPN_path = \"/home/vincent/AAA_projects/University/MSc_AI/Big Data Analysis/project2data/personality-prediction-from-text/data/models/cOPN.p\"\n",
    "vectorizer_30_path = \"/home/vincent/AAA_projects/University/MSc_AI/Big Data Analysis/project2data/personality-prediction-from-text/data/models/vectorizer_30.p\"\n",
    "vectorizer_31_path = \"/home/vincent/AAA_projects/University/MSc_AI/Big Data Analysis/project2data/personality-prediction-from-text/data/models/vectorizer_31.p\"\n",
    "\n",
    "cAGR = pickle.load(open(cAGR_path, \"rb\"))\n",
    "cCON = pickle.load(open(cCON_path, \"rb\"))\n",
    "cEXT = pickle.load(open(cEXT_path, \"rb\"))\n",
    "cNEU = pickle.load(open(cNEU_path, \"rb\"))\n",
    "cOPN = pickle.load(open(cOPN_path, \"rb\"))\n",
    "vectorizer_30 = pickle.load(open(vectorizer_30_path, \"rb\"))\n",
    "vectorizer_31 = pickle.load(open(vectorizer_31_path, \"rb\"))"
   ]
  },
  {
   "cell_type": "markdown",
   "id": "b55407fd-9e72-402a-9984-88d78949e299",
   "metadata": {},
   "source": [
    "# Correlations between Neuroticism, Extraversion, Openness, Agreeableness, Conscientiousness, -to- Sense of coherence, Balance, Comprehensibility, Manageability, Meaningfulness, Reflection \n",
    "(https://journals.sagepub.com/doi/10.1177/1359105319884597)"
   ]
  },
  {
   "cell_type": "code",
   "execution_count": null,
   "id": "1b2e58ed-b3ae-4c45-93c4-1194cc02c8ae",
   "metadata": {},
   "outputs": [],
   "source": [
    "# Create a nested dictionary to hold the data\n",
    "data = {\n",
    "    'Sense of coherence': {\n",
    "        'Neuroticism': {'r_effect': -0.54, 'g_effect': -1.27, 'CI_r': (-0.59, -0.48), 'CI_g': (-1.44, -1.09), 'k': 21, 'Q': 369.75, 'I2': 94.59, 'τ2': 0.03},\n",
    "        'Extraversion': {'r_effect': 0.27, 'g_effect': 0.55, 'CI_r': (0.22, 0.31), 'CI_g': (0.45, 0.65), 'k': 17, 'Q': 119.87, 'I2': 86.65, 'τ2': 0.01},\n",
    "        'Openness': {'r_effect': 0.13, 'g_effect': 0.27, 'CI_r': (0.09, 0.18), 'CI_g': (0.18, 0.36), 'k': 12, 'Q': 45.62, 'I2': 75.89, 'τ2': 0.00},\n",
    "        'Agreeableness': {'r_effect': 0.28, 'g_effect': 0.58, 'CI_r': (0.25, 0.31), 'CI_g': (0.51, 0.66), 'k': 11, 'Q': 23.35, 'I2': 57.16, 'τ2': 0.00},\n",
    "        'Conscientiousness': {'r_effect': 0.31, 'g_effect': 0.64, 'CI_r': (0.26, 0.35), 'CI_g': (0.52, 0.75), 'k': 12, 'Q': 62.27, 'I2': 82.34, 'τ2': 0.01},\n",
    "    },\n",
    "    'Balance': {\n",
    "        'Neuroticism': {'r_effect': -0.06, 'g_effect': -0.13, 'CI_r': (-0.21, 0.09), 'CI_g': (-0.42, 0.17), 'k': 2, 'Q': 3.52, 'I2': 70.17, 'τ2': 0.01},\n",
    "        'Extraversion': {'r_effect': 0.05, 'g_effect': 0.10, 'CI_r': (-0.03, 0.13), 'CI_g': (-0.06, 0.26), 'k': 2, 'Q': 0.06, 'I2': 0, 'τ2': 0.00},\n",
    "        'Openness': {'r_effect': 0.07, 'g_effect': 0.14, 'CI_r': (-0.01, 0.15), 'CI_g': (-0.02, 0.30), 'k': 2, 'Q': 0.06, 'I2': 0, 'τ2': 0.00},\n",
    "        'Agreeableness': {'r_effect': 0.05, 'g_effect': 0.10, 'CI_r': (-0.03, 0.13), 'CI_g': (-0.06, 0.26), 'k': 2, 'Q': 0.73, 'I2': 0, 'τ2': 0.00},\n",
    "        'Conscientiousness': {'r_effect': 0.04, 'g_effect': 0.08, 'CI_r': (-0.04, 0.12), 'CI_g': (-0.08, 0.25), 'k': 2, 'Q': 0.24, 'I2': 0, 'τ2': 0.00},\n",
    "    },\n",
    "    'Comprehensibility': {\n",
    "        'Neuroticism': {'r_effect': -0.50, 'g_effect': -1.15, 'CI_r': (-0.57, -0.42), 'CI_g': (-1.38, -0.92), 'k': 2, 'Q': 2.28, 'I2': 56.18, 'τ2': 0.00},\n",
    "        'Extraversion': {'r_effect': 0.32, 'g_effect': 0.68, 'CI_r': (0.24, 0.40), 'CI_g': (0.48, 0.87), 'k': 2, 'Q': 1.92, 'I2': 47.90, 'τ2': 0.00},\n",
    "        'Openness': {'r_effect': 0.23, 'g_effect': 0.46, 'CI_r': (0.17, 0.28), 'CI_g': (0.35, 0.57), 'k': 2, 'Q': 0.19, 'I2': 0, 'τ2': 0.00},\n",
    "        'Agreeableness': {'r_effect': 0.17, 'g_effect': 0.35, 'CI_r': (0.12, 0.22), 'CI_g': (0.24, 0.46), 'k': 2, 'Q': 0.75, 'I2': 0, 'τ2': 0.00},\n",
    "        'Conscientiousness': {'r_effect': 0.28, 'g_effect': 0.57, 'CI_r': (0.18, 0.37), 'CI_g': (0.36, 0.78), 'k': 2, 'Q': 2.24, 'I2': 55.41, 'τ2': 0.00},\n",
    "    },\n",
    "    'Manageability': {\n",
    "        'Neuroticism': {'r_effect': -0.45, 'g_effect': -1.00, 'CI_r': (-0.55, -0.34), 'CI_g': (-1.29, -0.72), 'k': 4, 'Q': 20.33, 'I2': 85.24, 'τ2': 0.02},\n",
    "        'Extraversion': {'r_effect': 0.28, 'g_effect': 0.57, 'CI_r': (0.23, 0.32), 'CI_g': (0.47, 0.66), 'k': 4, 'Q': 3.11, 'I2': 3.46, 'τ2': 0.00},\n",
    "        'Openness': {'r_effect': 0.18, 'g_effect': 0.37, 'CI_r': (0.14, 0.23), 'CI_g': (0.28, 0.46), 'k': 4, 'Q': 2.80, 'I2': 0, 'τ2': 0.00},\n",
    "        'Agreeableness': {'r_effect': 0.27, 'g_effect': 0.55, 'CI_r': (0.17, 0.36), 'CI_g': (0.34, 0.77), 'k': 4, 'Q': 12.49, 'I2': 75.99, 'τ2': 0.01},\n",
    "        'Conscientiousness': {'r_effect': 0.18, 'g_effect': 0.35, 'CI_r': (0.11, 0.24), 'CI_g': (0.21, 0.50), 'k': 4, 'Q': 6.10, 'I2': 50.84, 'τ2': 0.00},\n",
    "    },\n",
    "    'Meaningfulness': {\n",
    "        'Neuroticism': {'r_effect': -0.34, 'g_effect': -0.73, 'CI_r': (-0.47, -0.20), 'CI_g': (-1.06, -0.40), 'k': 2, 'Q': 4.98, 'I2': 79.92, 'τ2': 0.01},\n",
    "        'Extraversion': {'r_effect': 0.31, 'g_effect': 0.64, 'CI_r': (0.26, 0.35), 'CI_g': (0.53, 0.75), 'k': 2, 'Q': 0.22, 'I2': 0, 'τ2': 0.00},\n",
    "        'Openness': {'r_effect': 0.30, 'g_effect': 0.62, 'CI_r': (0.25, 0.34), 'CI_g': (0.50, 0.73), 'k': 2, 'Q': 0.21, 'I2': 0, 'τ2': 0.00},\n",
    "        'Agreeableness': {'r_effect': 0.27, 'g_effect': 0.55, 'CI_r': (0.22, 0.32), 'CI_g': (0.44, 0.66), 'k': 2, 'Q': 0.21, 'I2': 0, 'τ2': 0.01},\n",
    "        'Conscientiousness': {'r_effect': 0.28, 'g_effect': 0.57, 'CI_r': (0.22, 0.33), 'CI_g': (0.45, 0.69), 'k': 2, 'Q': 0.28, 'I2': 0, 'τ2': 0.00},\n",
    "    },\n",
    "    'Reflection': {\n",
    "        'Neuroticism': {'r_effect': -0.52, 'g_effect': -1.20, 'CI_r': (-0.63, -0.41), 'CI_g': (-1.46, -0.94), 'k': 3, 'Q': 7.32, 'I2': 72.14, 'τ2': 0.02},\n",
    "        'Extraversion': {'r_effect': 0.38, 'g_effect': 0.82, 'CI_r': (0.30, 0.46), 'CI_g': (0.64, 1.00), 'k': 3, 'Q': 1.08, 'I2': 0, 'τ2': 0.00},\n",
    "        'Openness': {'r_effect': 0.42, 'g_effect': 0.92, 'CI_r': (0.35, 0.49), 'CI_g': (0.75, 1.09), 'k': 3, 'Q': 0.43, 'I2': 0, 'τ2': 0.00},\n",
    "        'Agreeableness': {'r_effect': 0.15, 'g_effect': 0.30, 'CI_r': (0.09, 0.20), 'CI_g': (0.18, 0.42), 'k': 3, 'Q': 1.99, 'I2': 0, 'τ2': 0.00},\n",
    "        'Conscientiousness': {'r_effect': 0.33, 'g_effect': 0.68, 'CI_r': (0.24, 0.41), 'CI_g': (0.49, 0.88), 'k': 3, 'Q': 3.11, 'I2': 35.92, 'τ2': 0.01},\n",
    "    },\n",
    "}"
   ]
  },
  {
   "cell_type": "code",
   "execution_count": null,
   "id": "ee89b073-14b9-4177-be82-2192492449a8",
   "metadata": {},
   "outputs": [],
   "source": [
    "# Weights for r and g based on their perceived importance\n",
    "weights = {'r_effect': 0.5, 'g_effect': 0.5}\n",
    "\n",
    "# Researched traits (in your case, these are the big five personality traits)\n",
    "researched_traits = [\"Neuroticism\", \"Extraversion\", \"Openness\", \"Agreeableness\", \"Conscientiousness\"]\n",
    "\n",
    "# Create an empty dictionary to store the composite features\n",
    "composite_features = {}\n",
    "\n",
    "# Calculate the composite features\n",
    "for psychological_construct, values in data.items():\n",
    "    composite_features[psychological_construct] = {}\n",
    "    for researched_trait in researched_traits:\n",
    "        val = values.get(researched_trait)\n",
    "        if val is not None:\n",
    "            r = val['r_effect']\n",
    "            g = val['g_effect']\n",
    "            k = val['k']\n",
    "            Q = val['Q']\n",
    "            I2 = val['I2']\n",
    "            τ2 = val['τ2']\n",
    "            \n",
    "            composite_feature = weights['r_effect'] * r + weights['g_effect'] * g\n",
    "            # Store composite feature along with k, Q, I2, τ2\n",
    "            composite_features[psychological_construct][researched_trait] = {\n",
    "                'composite_feature': composite_feature,\n",
    "                'k': k,\n",
    "                'Q': Q,\n",
    "                'I2': I2,\n",
    "                'τ2': τ2\n",
    "            }\n",
    "\n",
    "# Display the composite features along with k, Q, I2, τ2\n",
    "for psychological_construct, traits in composite_features.items():\n",
    "    print(f\"Composite features for {psychological_construct}:\")\n",
    "    for researched_trait, metrics in traits.items():\n",
    "        print(f\"  - {researched_trait}:\")\n",
    "        print(f\"    - Composite Feature: {metrics['composite_feature']}\")\n",
    "        print(f\"    - k: {metrics['k']}\")\n",
    "        print(f\"    - Q: {metrics['Q']}\")\n",
    "        print(f\"    - I2: {metrics['I2']}\")\n",
    "        print(f\"    - τ2: {metrics['τ2']}\")\n",
    "    print()"
   ]
  },
  {
   "cell_type": "markdown",
   "id": "3b72f6d3-ffb8-4b93-9e3d-f10a88b69934",
   "metadata": {},
   "source": [
    "# Sub-Attribute Weights"
   ]
  },
  {
   "cell_type": "code",
   "execution_count": null,
   "id": "a0388089-de11-4332-9f66-eb74c48a4eeb",
   "metadata": {},
   "outputs": [],
   "source": [
    "# Create an empty dictionary to store the Sub-Attribute Weights\n",
    "sub_attribute_weights = {}\n",
    "\n",
    "# Calculate the Sub-Attribute Weights\n",
    "for psychological_construct, traits in composite_features.items():\n",
    "    sub_attribute_weights[psychological_construct] = {}\n",
    "    for researched_trait, metrics in traits.items():\n",
    "        \n",
    "        # Fetch k and I2 values\n",
    "        k = metrics['k']\n",
    "        I2 = metrics['I2']\n",
    "        \n",
    "        # Normalize k and I2 (This is a simple example; you'll actually need to find min and max across all traits)\n",
    "        # normalized_k = (k - min_k) / (max_k - min_k)\n",
    "        # normalized_I2 = (I2 - min_I2) / (max_I2 - min_I2)\n",
    "        \n",
    "        # For this example, we'll assume that k and I2 are already in a normalized form (between 0 and 1)\n",
    "        \n",
    "        # Calculate Sub-Attribute Weight as an average of k and I2\n",
    "        sub_attribute_weight = (k + I2) / 2\n",
    "        \n",
    "        # Store Sub-Attribute Weight\n",
    "        sub_attribute_weights[psychological_construct][researched_trait] = sub_attribute_weight\n",
    "\n",
    "# Display the Sub-Attribute Weights\n",
    "for psychological_construct, traits in sub_attribute_weights.items():\n",
    "    print(f\"Sub-Attribute Weights for {psychological_construct}:\")\n",
    "    for researched_trait, weight in traits.items():\n",
    "        print(f\"  - {researched_trait}: {weight}\")"
   ]
  },
  {
   "cell_type": "code",
   "execution_count": null,
   "id": "894e214b-04c9-44a8-a653-65373cf8a0d8",
   "metadata": {},
   "outputs": [],
   "source": [
    "# Create an empty dictionary to store the Composite-Trait Scores\n",
    "composite_trait_scores = {}\n",
    "\n",
    "# Calculate the Composite-Trait Scores\n",
    "for psychological_construct in composite_features.keys():\n",
    "    composite_trait_score = 0  # Initialize to zero for each psychological construct\n",
    "    \n",
    "    for researched_trait in composite_features[psychological_construct].keys():\n",
    "        # Fetch Composite Feature and Sub-Attribute Weight\n",
    "        composite_feature = composite_features[psychological_construct][researched_trait]['composite_feature']\n",
    "        sub_attribute_weight = sub_attribute_weights[psychological_construct][researched_trait]\n",
    "        \n",
    "        # Calculate the component of the Composite-Trait Score related to this researched trait\n",
    "        composite_trait_score += composite_feature * sub_attribute_weight\n",
    "    \n",
    "    # Store the Composite-Trait Score for the psychological construct\n",
    "    composite_trait_scores[psychological_construct] = composite_trait_score\n",
    "\n",
    "# Display the Composite-Trait Scores\n",
    "for psychological_construct, score in composite_trait_scores.items():\n",
    "    print(f\"Composite-Trait Score for {psychological_construct}: {score}\")"
   ]
  },
  {
   "cell_type": "code",
   "execution_count": null,
   "id": "9038e344-da6f-409a-8c11-87859ab09df4",
   "metadata": {},
   "outputs": [],
   "source": [
    "# Calculate the mean and standard deviation for the composite-trait scores\n",
    "mean_score = np.mean(list(composite_trait_scores.values()))\n",
    "std_deviation = np.std(list(composite_trait_scores.values()))\n",
    "\n",
    "# Calculate the Adjusted Scores\n",
    "adjusted_scores = {}\n",
    "for construct, score in composite_trait_scores.items():\n",
    "    adjusted_scores[construct] = (score - mean_score) / std_deviation\n",
    "\n",
    "# Display the Adjusted Scores\n",
    "for construct, score in adjusted_scores.items():\n",
    "    print(f\"Adjusted Score for {construct}: {score}\")"
   ]
  },
  {
   "cell_type": "code",
   "execution_count": null,
   "id": "eb129d99-0037-41f7-bb9e-5ecc5355a291",
   "metadata": {},
   "outputs": [],
   "source": []
  },
  {
   "cell_type": "code",
   "execution_count": null,
   "id": "de964dfc-1330-448f-a6ba-95c220ac761f",
   "metadata": {},
   "outputs": [],
   "source": []
  },
  {
   "cell_type": "code",
   "execution_count": null,
   "id": "11e8135d-42ff-480b-8ecd-c2fba5dbc3fa",
   "metadata": {},
   "outputs": [],
   "source": []
  },
  {
   "cell_type": "code",
   "execution_count": null,
   "id": "5fe56dc0-a1d7-4440-8e0b-fca3b1e7cd3d",
   "metadata": {},
   "outputs": [],
   "source": [
    "https://link.springer.com/article/10.1007/s12144-022-03944-9#data-availability"
   ]
  },
  {
   "cell_type": "code",
   "execution_count": null,
   "id": "95bd99d5-a5e0-49c1-81ec-28ee989010fb",
   "metadata": {},
   "outputs": [],
   "source": [
    "https://www.sciencedirect.com/science/article/abs/pii/S0191886918300576"
   ]
  },
  {
   "cell_type": "code",
   "execution_count": null,
   "id": "ff0dbc71-2ba0-4f47-8805-87d59ba8cad3",
   "metadata": {},
   "outputs": [],
   "source": []
  },
  {
   "cell_type": "markdown",
   "id": "fab2efdb-f3ab-41ae-a503-426612ce3347",
   "metadata": {},
   "source": [
    "# Vectorization"
   ]
  },
  {
   "cell_type": "code",
   "execution_count": null,
   "id": "a6b88bbc-ebd2-402d-9e89-ba4dcebcc5fc",
   "metadata": {},
   "outputs": [],
   "source": [
    "Bag-of-Words (BoW)\n",
    "TF-IDF (Term Frequency-Inverse Document Frequency)\n",
    "Word Embeddings\n",
    "BERT or other Transformer Embedding"
   ]
  },
  {
   "cell_type": "code",
   "execution_count": null,
   "id": "91ab15e9-9df2-4239-a985-1de816776250",
   "metadata": {},
   "outputs": [],
   "source": []
  },
  {
   "cell_type": "markdown",
   "id": "cb29ae0c-2cbe-42a8-b5c3-876caad203b6",
   "metadata": {},
   "source": [
    "# Lexicons"
   ]
  },
  {
   "cell_type": "code",
   "execution_count": null,
   "id": "a7a6e312-087b-4099-af44-90e3ba5c1f48",
   "metadata": {},
   "outputs": [],
   "source": [
    "LIWC (Linguistic Inquiry and Word Count):\n",
    "AFINN\n",
    "NRC Emotion Lexicon"
   ]
  },
  {
   "cell_type": "code",
   "execution_count": null,
   "id": "0f2a5387-409c-417a-ba4a-1bcb23c6236d",
   "metadata": {},
   "outputs": [],
   "source": []
  },
  {
   "cell_type": "code",
   "execution_count": null,
   "id": "4561579c-ea86-4b26-aec1-d9da6f6ba442",
   "metadata": {},
   "outputs": [],
   "source": []
  },
  {
   "cell_type": "markdown",
   "id": "b47b6386-f722-476f-90a9-ba78dd3692f8",
   "metadata": {},
   "source": [
    "# concatenate Vectorization and Lexicons "
   ]
  },
  {
   "cell_type": "code",
   "execution_count": null,
   "id": "3f9cbd84-5d7f-4d90-ae3f-3496fe6dff67",
   "metadata": {},
   "outputs": [],
   "source": []
  },
  {
   "cell_type": "code",
   "execution_count": null,
   "id": "5cf5c56d-d521-4298-b464-929cc318172a",
   "metadata": {},
   "outputs": [],
   "source": []
  },
  {
   "cell_type": "code",
   "execution_count": null,
   "id": "367041aa-35e6-42e9-a878-557c18509007",
   "metadata": {},
   "outputs": [],
   "source": []
  },
  {
   "cell_type": "code",
   "execution_count": null,
   "id": "c1aa37c8-d91c-4a3d-9373-6a42765c3762",
   "metadata": {},
   "outputs": [],
   "source": []
  },
  {
   "cell_type": "code",
   "execution_count": null,
   "id": "57d1b031-74c3-4204-8195-77a19e4c68f5",
   "metadata": {},
   "outputs": [],
   "source": []
  }
 ],
 "metadata": {
  "kernelspec": {
   "display_name": "Python 3 (ipykernel)",
   "language": "python",
   "name": "python3"
  },
  "language_info": {
   "codemirror_mode": {
    "name": "ipython",
    "version": 3
   },
   "file_extension": ".py",
   "mimetype": "text/x-python",
   "name": "python",
   "nbconvert_exporter": "python",
   "pygments_lexer": "ipython3",
   "version": "3.10.12"
  }
 },
 "nbformat": 4,
 "nbformat_minor": 5
}
